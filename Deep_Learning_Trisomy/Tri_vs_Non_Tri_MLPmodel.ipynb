{
 "cells": [
  {
   "cell_type": "code",
   "execution_count": 1,
   "metadata": {},
   "outputs": [],
   "source": [
    "import pandas as pd\n",
    "import numpy as np\n",
    "import matplotlib.pyplot as plt\n",
    "import scipy.stats as st\n",
    "import seaborn as sns\n",
    "import pandas_profiling\n",
    "\n",
    "chromo = pd.read_excel('GSE114559_SuppTable7-Gene-Expression-Table.xlsx')\n",
    "\n",
    "#remove rows with zeros\n",
    "clean_chromo = chromo[chromo!=0].dropna()\n",
    "\n",
    "#remove duplicate genes\n",
    "clean_chromo = clean_chromo.drop_duplicates(subset =\"gene\", \n",
    "                     keep = False, inplace = False) \n",
    "\n",
    "#transpose the dataset\n",
    "clean_transposed = clean_chromo.T\n",
    "\n",
    "#add new index and remove old transposed index\n",
    "clean_transposed.reset_index(inplace=True)\n",
    "clean_transposed.drop(\"index\",axis=1,inplace=True)\n",
    "\n",
    "clean_transposed.columns = clean_transposed.iloc[0]\n",
    "\n",
    "#create copy with gene descriptions on it\n",
    "clean_transposed_descriptions = clean_transposed[0:2]\n",
    "\n",
    "#labels scraped from https://www.ncbi.nlm.nih.gov/geo/query/acc.cgi \n",
    "labels = [\"Normal\",\n",
    "\"Normal\",\n",
    "\"Normal\",\n",
    "\"Normal\",\n",
    "\"Normal\",\n",
    "\"Trisomy\",\n",
    "\"Trisomy\",\n",
    "\"Trisomy\",\n",
    "\"Trisomy\",\n",
    "\"Trisomy\",\n",
    "\"Trisomy\",\n",
    "\"Trisomy\",\n",
    "\"Trisomy\",\n",
    "\"Trisomy\",\n",
    "\"Trisomy\",\n",
    "\"Trisomy\",\n",
    "\"Trisomy\",\n",
    "\"Trisomy\",\n",
    "\"Trisomy\",\n",
    "\"Trisomy\",\n",
    "\"Trisomy\",\n",
    "\"Trisomy\",\n",
    "\"Trisomy\",\n",
    "\"Trisomy\",\n",
    "\"Trisomy\",\n",
    "\"Trisomy\",\n",
    "\"Trisomy\",\n",
    "\"Trisomy\",\n",
    "\"Trisomy\",\n",
    "\"Trisomy\",\n",
    "\"Trisomy\",\n",
    "\"Trisomy\",\n",
    "\"Trisomy\",\n",
    "\"Trisomy\",\n",
    "\"Trisomy\",\n",
    "\"Trisomy\",\n",
    "\"Trisomy\",\n",
    "\"Trisomy\",\n",
    "\"Trisomy\",\n",
    "\"Trisomy\",\n",
    "\"Trisomy\",\n",
    "\"Trisomy\",\n",
    "\"Trisomy\",\n",
    "\"Trisomy\",\n",
    "\"Trisomy\",\n",
    "\"Trisomy\",\n",
    "\"Trisomy\",\n",
    "\"Trisomy\",\n",
    "\"Trisomy\",\n",
    "\"Trisomy\",\n",
    "\"Trisomy\",\n",
    "\"Trisomy\",\n",
    "\"Trisomy\",\n",
    "\"Trisomy\",\n",
    "\"Trisomy\",\n",
    "\"Trisomy\",\n",
    "\"Trisomy\",\n",
    "\"Trisomy\",\n",
    "\"Monosomy\",\n",
    "\"Monosomy\",\n",
    "\"Monosomy\",\n",
    "\"Monosomy\",\n",
    "\"Monosomy\",\n",
    "\"Monosomy\",\n",
    "\"Monosomy\",\n",
    "\"Monosomy\",\n",
    "\"Monosomy\",\n",
    "\"Monosomy\",\n",
    "\"Monosomy\",\n",
    "\"Monosomy\",\n",
    "\"Monosomy\",\n",
    "\"Monosomy\",\n",
    "\"Monosomy\",\n",
    "\"Monosomy\",\n",
    "\"Monosomy\",\n",
    "\"Monosomy\",\n",
    "\"Monosomy\",\n",
    "\"Monosomy\",\n",
    "\"Monosomy\",\n",
    "\"Monosomy\",\n",
    "\"Monosomy\",\n",
    "\"Monosomy\",\n",
    "\"Monosomy\",\n",
    "\"Monosomy\",\n",
    "\"Monosomy\",\n",
    "\"Monosomy\",\n",
    "\"Monosomy\",\n",
    "\"Monosomy\",\n",
    "\"Monosomy\",\n",
    "\"Monosomy\",\n",
    "\"Monosomy\",\n",
    "\"Monosomy\",\n",
    "\"Monosomy\",\n",
    "\"Monosomy\",\n",
    "\"Monosomy\",\n",
    "\"Monosomy\",\n",
    "\"Monosomy\",\n",
    "\"Monosomy\",\n",
    "\"Monosomy\",\n",
    "\"Monosomy\",\n",
    "\"Monosomy\"]\n",
    "\n",
    "\n",
    "#remove rows 0 & 1 and add class to the dataset\n",
    "\n",
    "clean_transposed = clean_transposed.drop([clean_transposed.index[0] , clean_transposed.index[1]])\n",
    "clean_transposed['class'] = labels\n",
    "\n",
    "#keep record of all classes before working with just normal and trisomy \n",
    "clean_transposed_all = clean_transposed"
   ]
  },
  {
   "cell_type": "code",
   "execution_count": 2,
   "metadata": {},
   "outputs": [],
   "source": [
    "#Change class labels to binary \n",
    "clean_transposed_all = clean_transposed_all.replace('Normal',0)\n",
    "clean_transposed_all = clean_transposed_all.replace('Monosomy',0)\n",
    "clean_transposed_all = clean_transposed_all.replace('Trisomy',1)"
   ]
  },
  {
   "cell_type": "code",
   "execution_count": 3,
   "metadata": {},
   "outputs": [
    {
     "data": {
      "text/plain": [
       "1    53\n",
       "0    48\n",
       "Name: class, dtype: int64"
      ]
     },
     "execution_count": 3,
     "metadata": {},
     "output_type": "execute_result"
    }
   ],
   "source": [
    "clean_transposed_all['class'].value_counts()"
   ]
  },
  {
   "cell_type": "code",
   "execution_count": 4,
   "metadata": {},
   "outputs": [],
   "source": [
    "#Bring in the modelling dependancies\n",
    "import sklearn\n",
    "from sklearn.model_selection import train_test_split\n",
    "from sklearn.linear_model import LogisticRegression\n",
    "from sklearn.metrics import classification_report\n",
    "from sklearn.metrics import confusion_matrix\n",
    "from sklearn.metrics import accuracy_score\n",
    "from sklearn.preprocessing import StandardScaler\n",
    "from sklearn.ensemble import RandomForestClassifier\n",
    "from sklearn.metrics import roc_curve\n",
    "from sklearn.metrics import roc_auc_score\n",
    "import xgboost as xgb\n",
    "from sklearn.metrics import mean_squared_error\n",
    "from sklearn.neural_network import MLPClassifier"
   ]
  },
  {
   "cell_type": "code",
   "execution_count": 5,
   "metadata": {},
   "outputs": [],
   "source": [
    "#clean_transposed_all"
   ]
  },
  {
   "cell_type": "code",
   "execution_count": 6,
   "metadata": {},
   "outputs": [],
   "source": [
    "#Split the new dataset and create new training and test data\n",
    "features = clean_transposed_all.iloc[:,:-1]\n",
    "result = clean_transposed_all.iloc[:,-1]\n",
    "X_train, X_test, y_train, y_test = train_test_split(features, result, test_size = 0.2, random_state = 14)"
   ]
  },
  {
   "cell_type": "code",
   "execution_count": 7,
   "metadata": {
    "scrolled": true
   },
   "outputs": [
    {
     "name": "stdout",
     "output_type": "stream",
     "text": [
      "              precision    recall  f1-score   support\n",
      "\n",
      "           0       0.56      0.56      0.56         9\n",
      "           1       0.67      0.67      0.67        12\n",
      "\n",
      "    accuracy                           0.62        21\n",
      "   macro avg       0.61      0.61      0.61        21\n",
      "weighted avg       0.62      0.62      0.62        21\n",
      "\n",
      "[[5 4]\n",
      " [4 8]]\n"
     ]
    },
    {
     "name": "stderr",
     "output_type": "stream",
     "text": [
      "/Users/titti/opt/anaconda3/lib/python3.7/site-packages/sklearn/ensemble/forest.py:245: FutureWarning: The default value of n_estimators will change from 10 in version 0.20 to 100 in 0.22.\n",
      "  \"10 in version 0.20 to 100 in 0.22.\", FutureWarning)\n"
     ]
    }
   ],
   "source": [
    "#random forest first\n",
    "rf = RandomForestClassifier()\n",
    "rf.fit(X_train, y_train)\n",
    "# Making predictions on unseen data\n",
    "predictions_rf = rf.predict(X_test)\n",
    "\n",
    "#test random forest validity\n",
    "print(classification_report(y_test, predictions_rf))\n",
    "print(confusion_matrix(y_test, predictions_rf))"
   ]
  },
  {
   "cell_type": "code",
   "execution_count": 8,
   "metadata": {},
   "outputs": [],
   "source": [
    "#pick out the best features\n",
    "a =list(zip(features, rf.feature_importances_))"
   ]
  },
  {
   "cell_type": "code",
   "execution_count": 9,
   "metadata": {},
   "outputs": [
    {
     "name": "stdout",
     "output_type": "stream",
     "text": [
      "('ALKBH7', 0.0045601688951442615)\n",
      "('AP2A1', 0.020290574544083423)\n",
      "('ARL6', 0.017065060543321412)\n",
      "('ASB16-AS1', 0.0036060401171963048)\n",
      "('ATAD2B', 0.012067340067340063)\n",
      "('ATP2A2', 0.0305318607644189)\n",
      "('ATP5G2', 0.003809523809523809)\n",
      "('ATP6AP1', 0.006095238095238095)\n",
      "('B4GALT4', 0.020322432608523015)\n",
      "('CCNA2', 0.03725713427336945)\n",
      "('CDC42EP1', 0.009034913700228105)\n",
      "('CDC45', 0.03040094503509138)\n",
      "('COA5', 0.010484595635430041)\n",
      "('COQ6', 0.012548118468051591)\n",
      "('CTDNEP1', 0.051336140863668125)\n",
      "('DCLRE1C', 0.003999999999999999)\n",
      "('DCXR', 0.004897959183673469)\n",
      "('DDIT4L', 0.00473684210526316)\n",
      "('DNAJC5', 0.009000157502756302)\n",
      "('ELL2', 0.029214815239405407)\n",
      "('EXOSC7', 0.004753416518122402)\n",
      "('EXT2', 0.006611073548193227)\n",
      "('FBXW11', 0.004875911852656035)\n",
      "('FOXP4', 0.004848484848484845)\n",
      "('FRMD4A', 0.004208754208754209)\n",
      "('GSE1', 0.004950086626515961)\n",
      "('HECA', 0.010101010101010102)\n",
      "('HNRNPA2B1', 0.013020227853987442)\n",
      "('HNRNPKP4', 0.009481481481481483)\n",
      "('HSPA5', 0.019306184012066362)\n",
      "('KIFAP3', 0.012862041467304635)\n",
      "('LAP3', 0.025906720825051133)\n",
      "('LCMT2', 0.02228339882966305)\n",
      "('LZTFL1', 0.02493528904227782)\n",
      "('MAPKAPK5-AS1', 0.009272674587076212)\n",
      "('METAP1', 0.004780578898225958)\n",
      "('MFN1', 0.009411764705882356)\n",
      "('MIER2', 0.02470471914916359)\n",
      "('MYL5', 0.02714932126696832)\n",
      "('MZT2A', 0.010780748663101606)\n",
      "('NEK2', 0.027812939353080345)\n",
      "('NET1', 0.007426388821737659)\n",
      "('NOL10', 0.009141628016401154)\n",
      "('NSMCE4A', 0.016414141414141416)\n",
      "('NSUN4', 0.015345268542199485)\n",
      "('PARP4', 0.0040634920634920624)\n",
      "('PARPBP', 0.02630318120514199)\n",
      "('PCBP1', 0.014652014652014645)\n",
      "('PIP5K1A', 0.03147105167389142)\n",
      "('PLCG1', 0.00858160486067463)\n",
      "('POLE', 0.004714904701443939)\n",
      "('PRPF19', 0.0154825208483745)\n",
      "('RBBP7', 0.004641493013586036)\n",
      "('RHOB', 0.004827152734129477)\n",
      "('RPS3', 0.007907335907335908)\n",
      "('SCO1', 0.004722222222222223)\n",
      "('SLC25A37', 0.00952727513315029)\n",
      "('SLC38A7', 0.025784260064178936)\n",
      "('SNRPF', 0.007142857142857143)\n",
      "('SSH1', 0.013184584178498987)\n",
      "('SUV39H2', 0.03908692933083176)\n",
      "('TOX4', 0.009852216748768473)\n",
      "('TRAPPC2', 0.013514777403666295)\n",
      "('UACA', 0.004976843851524163)\n",
      "('UBE2SP2', 0.023242365027354887)\n",
      "('UBP1', 0.012067881835323698)\n",
      "('YBX1', 0.014595959595959598)\n",
      "('ZNF14', 0.01856513856513857)\n",
      "('ZNF22', 0.016672242983764404)\n",
      "('ZNF596', 0.004818772260632728)\n",
      "('ZNF746', 0.007956805910770104)\n"
     ]
    }
   ],
   "source": [
    "#build list of features to use in model\n",
    "\n",
    "columns_to_use = []\n",
    "for list in a:\n",
    "    if list[1]>0:\n",
    "        print(list)\n",
    "        columns_to_use.append(list[0])\n",
    "        \n",
    "    \n",
    "    \n",
    "    "
   ]
  },
  {
   "cell_type": "code",
   "execution_count": 10,
   "metadata": {},
   "outputs": [],
   "source": [
    "#now produce a dataset from the useful columns\n",
    "reduced_clean_transposed_all = clean_transposed_all[columns_to_use]\n",
    "labels = clean_transposed_all['class']\n",
    "reduced_clean_transposed_all = reduced_clean_transposed_all.join(labels)\n"
   ]
  },
  {
   "cell_type": "code",
   "execution_count": 11,
   "metadata": {
    "scrolled": true
   },
   "outputs": [],
   "source": [
    "#Split reduced dataset \n",
    "Logfeatures = reduced_clean_transposed_all.iloc[:,:-1]\n",
    "Logresult = reduced_clean_transposed_all.iloc[:,-1]\n",
    "X_train, X_test, y_train, y_test = train_test_split(Logfeatures, Logresult, test_size = 0.2, random_state = 14)"
   ]
  },
  {
   "cell_type": "code",
   "execution_count": 12,
   "metadata": {},
   "outputs": [],
   "source": [
    "#normalise the data\n",
    "scaler = StandardScaler()\n",
    "X_train_std = scaler.fit_transform(X_train)\n",
    "X_test_std = scaler.fit_transform(X_test)"
   ]
  },
  {
   "cell_type": "code",
   "execution_count": 13,
   "metadata": {},
   "outputs": [],
   "source": [
    "#Manual MLP classifyer\n",
    "\n",
    "clf = MLPClassifier(solver='lbfgs', alpha=1e-05,hidden_layer_sizes=(80,80), max_iter=2,random_state=1)"
   ]
  },
  {
   "cell_type": "code",
   "execution_count": 14,
   "metadata": {},
   "outputs": [
    {
     "data": {
      "text/plain": [
       "MLPClassifier(activation='relu', alpha=1e-05, batch_size='auto', beta_1=0.9,\n",
       "              beta_2=0.999, early_stopping=False, epsilon=1e-08,\n",
       "              hidden_layer_sizes=(80, 80), learning_rate='constant',\n",
       "              learning_rate_init=0.001, max_iter=2, momentum=0.9,\n",
       "              n_iter_no_change=10, nesterovs_momentum=True, power_t=0.5,\n",
       "              random_state=1, shuffle=True, solver='lbfgs', tol=0.0001,\n",
       "              validation_fraction=0.1, verbose=False, warm_start=False)"
      ]
     },
     "execution_count": 14,
     "metadata": {},
     "output_type": "execute_result"
    }
   ],
   "source": [
    "clf.fit(X_train_std,y_train)"
   ]
  },
  {
   "cell_type": "code",
   "execution_count": 15,
   "metadata": {},
   "outputs": [
    {
     "name": "stderr",
     "output_type": "stream",
     "text": [
      "/Users/titti/opt/anaconda3/lib/python3.7/site-packages/sklearn/model_selection/_split.py:1978: FutureWarning: The default value of cv will change from 3 to 5 in version 0.22. Specify it explicitly to silence this warning.\n",
      "  warnings.warn(CV_WARNING, FutureWarning)\n"
     ]
    },
    {
     "name": "stdout",
     "output_type": "stream",
     "text": [
      "1.0\n",
      "{'hidden_layer_sizes': (70, 80), 'max_iter': 100, 'momentum': 0.4, 'random_state': 7, 'solver': 'lbfgs'}\n"
     ]
    },
    {
     "name": "stderr",
     "output_type": "stream",
     "text": [
      "/Users/titti/opt/anaconda3/lib/python3.7/site-packages/sklearn/model_selection/_search.py:814: DeprecationWarning: The default of the `iid` parameter will change from True to False in version 0.22 and will be removed in 0.24. This will change numeric results when test-set sizes are unequal.\n",
      "  DeprecationWarning)\n"
     ]
    }
   ],
   "source": [
    "#MLP with grid search\n",
    "from sklearn.model_selection import StratifiedKFold\n",
    "from sklearn.model_selection import GridSearchCV\n",
    "parameters = {'solver': ['lbfgs'], 'max_iter': [100,200,300,400],  \n",
    "              'hidden_layer_sizes':[(70,80),(80,80),(90,80)],\n",
    "              'momentum':[0.4,0.5,0.6,0.7,0.8,0.9],\n",
    "              'random_state':[0,1,2,3,4,5,6,7,8,9]}\n",
    "clf = GridSearchCV(MLPClassifier(), parameters, n_jobs=-1)\n",
    "\n",
    "clf.fit(X_train_std, y_train)\n",
    "print(clf.score(X_train_std, y_train))\n",
    "print(clf.best_params_)\n"
   ]
  },
  {
   "cell_type": "code",
   "execution_count": 16,
   "metadata": {},
   "outputs": [],
   "source": [
    "predictions = clf.predict(X_test_std)"
   ]
  },
  {
   "cell_type": "code",
   "execution_count": 17,
   "metadata": {
    "scrolled": true
   },
   "outputs": [
    {
     "name": "stdout",
     "output_type": "stream",
     "text": [
      "              precision    recall  f1-score   support\n",
      "\n",
      "           0       0.64      0.78      0.70         9\n",
      "           1       0.80      0.67      0.73        12\n",
      "\n",
      "    accuracy                           0.71        21\n",
      "   macro avg       0.72      0.72      0.71        21\n",
      "weighted avg       0.73      0.71      0.72        21\n",
      "\n",
      "[[7 2]\n",
      " [4 8]]\n"
     ]
    }
   ],
   "source": [
    "predictions = clf.predict(X_test_std)\n",
    "print(classification_report(y_test, predictions))\n",
    "print(confusion_matrix(y_test, predictions))"
   ]
  },
  {
   "cell_type": "code",
   "execution_count": 18,
   "metadata": {},
   "outputs": [
    {
     "name": "stdout",
     "output_type": "stream",
     "text": [
      "No Skill: ROC AUC=0.500\n",
      "MLP: ROC AUC=0.769\n"
     ]
    },
    {
     "data": {
      "image/png": "[encoded data removed]",
      "text/plain": [
       "<Figure size 432x288 with 1 Axes>"
      ]
     },
     "metadata": {
      "needs_background": "light"
     },
     "output_type": "display_data"
    }
   ],
   "source": [
    "#ROC curve\n",
    "# generate a no skill prediction (majority class)\n",
    "ns_probs = [0 for _ in range(len(y_test))]\n",
    "lr_probs = clf.predict_proba(X_test_std)\n",
    "# keep probabilities for the positive outcome only\n",
    "lr_probs = lr_probs[:, 1]\n",
    "# calculate scores\n",
    "ns_auc = roc_auc_score(y_test, ns_probs)\n",
    "lr_auc = roc_auc_score(y_test, lr_probs)\n",
    "# summarize scores\n",
    "print('No Skill: ROC AUC=%.3f' % (ns_auc))\n",
    "print('MLP: ROC AUC=%.3f' % (lr_auc))\n",
    "# calculate roc curves\n",
    "ns_fpr, ns_tpr, _ = roc_curve(y_test, ns_probs)\n",
    "lr_fpr, lr_tpr, _ = roc_curve(y_test, lr_probs)\n",
    "# plot the roc curve for the model\n",
    "plt.plot(ns_fpr, ns_tpr, linestyle='--', label='No Skill')\n",
    "plt.plot(lr_fpr, lr_tpr, marker='.', label='MLP')\n",
    "# axis labels\n",
    "plt.xlabel('False Positive Rate')\n",
    "plt.ylabel('True Positive Rate')\n",
    "# show the legend\n",
    "plt.legend()\n",
    "# show the plot\n",
    "plt.show()"
   ]
  },
  {
   "cell_type": "code",
   "execution_count": null,
   "metadata": {},
   "outputs": [],
   "source": []
  }
 ],
 "metadata": {
  "kernelspec": {
   "display_name": "Python 3",
   "language": "python",
   "name": "python3"
  },
  "language_info": {
   "codemirror_mode": {
    "name": "ipython",
    "version": 3
   },
   "file_extension": ".py",
   "mimetype": "text/x-python",
   "name": "python",
   "nbconvert_exporter": "python",
   "pygments_lexer": "ipython3",
   "version": "3.7.4"
  }
 },
 "nbformat": 4,
 "nbformat_minor": 2
}
